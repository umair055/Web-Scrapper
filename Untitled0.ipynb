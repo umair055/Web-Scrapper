{
  "nbformat": 4,
  "nbformat_minor": 0,
  "metadata": {
    "colab": {
      "provenance": [],
      "collapsed_sections": [],
      "authorship_tag": "ABX9TyOg2yRhjXiFnfcaSkxVvYvR",
      "include_colab_link": true
    },
    "kernelspec": {
      "name": "python3",
      "display_name": "Python 3"
    },
    "language_info": {
      "name": "python"
    }
  },
  "cells": [
    {
      "cell_type": "markdown",
      "metadata": {
        "id": "view-in-github",
        "colab_type": "text"
      },
      "source": [
        "<a href=\"https://colab.research.google.com/github/umair055/Web-Scrapper/blob/main/Untitled0.ipynb\" target=\"_parent\"><img src=\"https://colab.research.google.com/assets/colab-badge.svg\" alt=\"Open In Colab\"/></a>"
      ]
    },
    {
      "cell_type": "code",
      "execution_count": null,
      "metadata": {
        "id": "WI275AeA_fTk"
      },
      "outputs": [],
      "source": [
        "import requests\n",
        "from bs4 import BeautifulSoup"
      ]
    },
    {
      "cell_type": "code",
      "source": [
        "response = requests.get(\"https://www.rekhta.org/poets\")\n",
        "soup = BeautifulSoup(response.content, 'html5lib')\n",
        "\n",
        "#this will create a list (similar to array in other langauges)\n",
        "poets = []\n",
        "\n",
        "table = soup.find('div', attrs = {'class':'poetListingContent'}) \n",
        "\n",
        "for row in table.findAll('img'):\n",
        "  poet = {}\n",
        "  poet = row['alt'].split(\" #\")[0]\n",
        "  poets.append(poet)\n",
        "\n",
        "for q in poets:\n",
        "  print(q)"
      ],
      "metadata": {
        "colab": {
          "base_uri": "https://localhost:8080/"
        },
        "id": "2eyV30p__6a3",
        "outputId": "fdbea583-d2e7-490f-ba43-cab3480293cd"
      },
      "execution_count": null,
      "outputs": [
        {
          "output_type": "stream",
          "name": "stdout",
          "text": [
            "A G Josh\n",
            "A R Sahil 'Aleeg'\n",
            "A. D. Azhar\n",
            "A. Hameed\n",
            "A. Khayyam\n",
            "A.D.Rahi\n",
            "Aabid Adeeb\n",
            "Aabid Jafri\n",
            "aabid umar\n",
            "Aabida Urooj\n",
            "Aabidullah Ghazi\n",
            "Aadarsh Dubey\n",
            "Aadil Aseer Dehlvi\n",
            "Aadil Rasheed\n",
            "Aadil Raza Mansoori\n",
            "Aafaque Siddiqui\n",
            "Aaftab Lakhnvi\n",
            "Aaftab Rais Panipati\n",
            "Aaga nisaar\n",
            "Aagha Akbarabadi\n",
            "Aagha Babar\n",
            "Aah Sambhali\n",
            "Aajiz Hengan Ghati\n",
            "Aajiz Meer Puri\n",
            "Aakif Ghani\n",
            "Aalam Nizami\n",
            "Aale Ahmad Suroor\n",
            "Aal-e-Raza Raza\n",
            "Aal-e-Umar\n",
            "Aali Gopalpuri\n",
            "Aalok Shrivastav\n",
            "Aamil Darvesh\n",
            "Aamina Azfar\n",
            "Aamina Mufti\n",
            "Aamir Azher\n",
            "Aamir Riaz\n",
            "Aamir Souqi\n",
            "Aamir Suhail\n",
            "Aanand Saroop Anjum\n",
            "Aanis Moin\n",
            "Aaquib Shaad\n",
            "Aarif Aazmi\n",
            "Aarif Akhtar Naqvi\n",
            "Aarif Zaman\n",
            "Aarifuddin Aajiz\n",
            "Aarij Meer\n",
            "Aarsi\n",
            "Aarush Sarkaar\n",
            "Aas Fatmi\n",
            "Aashiq Husain Bazm Afandi\n"
          ]
        }
      ]
    }
  ]
}